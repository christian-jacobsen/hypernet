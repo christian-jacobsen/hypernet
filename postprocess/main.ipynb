{
 "cells": [
  {
   "cell_type": "markdown",
   "id": "a9086deb",
   "metadata": {},
   "source": [
    "Import libraries"
   ]
  },
  {
   "cell_type": "code",
   "execution_count": 1,
   "id": "4dec1d67",
   "metadata": {},
   "outputs": [],
   "source": [
    "import os\n",
    "import sys\n",
    "import copy\n",
    "import time\n",
    "import importlib\n",
    "import numpy as np\n",
    "import pandas as pd"
   ]
  },
  {
   "cell_type": "markdown",
   "id": "6a6f4311",
   "metadata": {},
   "source": [
    "Visual set up"
   ]
  },
  {
   "cell_type": "code",
   "execution_count": 2,
   "id": "ea7d78c2",
   "metadata": {},
   "outputs": [],
   "source": [
    "import matplotlib as mpl\n",
    "from matplotlib import pyplot as plt\n",
    "\n",
    "# Get colors list\n",
    "colors = mpl.rcParams['axes.prop_cycle'].by_key()['color']*10\n",
    "%matplotlib inline"
   ]
  },
  {
   "cell_type": "markdown",
   "id": "8f44d5ad",
   "metadata": {},
   "source": [
    "Define case and figures directory"
   ]
  },
  {
   "cell_type": "code",
   "execution_count": 3,
   "id": "fc76d228",
   "metadata": {},
   "outputs": [],
   "source": [
    "case_dir = \"../\"\n",
    "path = os.getcwd() + '/figs/'\n",
    "if not os.path.exists(path):\n",
    "    os.makedirs(path)"
   ]
  },
  {
   "cell_type": "markdown",
   "id": "80a09036",
   "metadata": {},
   "source": [
    "Plotter"
   ]
  },
  {
   "cell_type": "code",
   "execution_count": 4,
   "id": "901afc0b",
   "metadata": {},
   "outputs": [],
   "source": [
    "def plot_var(\n",
    "    t,\n",
    "    y,\n",
    "    var_names=None,\n",
    "    fig_name=None,\n",
    "    labels=[None, None],\n",
    "    scales=['log', 'linear'],\n",
    "    xlim=None,\n",
    "    ylim=None,\n",
    "    save=True,\n",
    "    path=None,\n",
    "    fig_ax=None,\n",
    "    max_num_var=9\n",
    "):\n",
    "    if fig_ax is None:\n",
    "        fig, ax = plt.subplots()\n",
    "    else:\n",
    "        fig, ax = fig_ax\n",
    "\n",
    "    # Set up figure -----------------------------------------------------------\n",
    "    x_label, y_label = labels\n",
    "    x_scale, y_scale = scales\n",
    "    # X axis\n",
    "    if x_label is not None:\n",
    "        ax.set_xlabel(x_label)\n",
    "    if x_scale is not None:\n",
    "        ax.set_xscale(x_scale)\n",
    "    if xlim is not None:\n",
    "        ax.set_xlim(xlim)\n",
    "    elif x_scale != 'log':\n",
    "        ax.set_xlim([min(x), max(x)])\n",
    "    # Y axis\n",
    "    if y_label is not None:\n",
    "        ax.set_ylabel(y_label)\n",
    "    if y_scale is not None:\n",
    "        ax.set_yscale(y_scale)\n",
    "    # Check 2nd dim: looping over columns\n",
    "    if len(y.shape) < 2:\n",
    "        y = np.expand_dims(y, 1)\n",
    "\n",
    "    # Plot figure -------------------------------------------------------------\n",
    "    # Define parameters\n",
    "    n = y.shape[1]\n",
    "    # Loop over features\n",
    "    for i in range(n):\n",
    "        ax.plot(\n",
    "            t,\n",
    "            y[:,i],\n",
    "            lw=1.,\n",
    "            c=colors[i]\n",
    "        )\n",
    "    # Add legend\n",
    "    if var_names is not None:\n",
    "        idx = np.arange(0,n)\n",
    "        if n > 6:\n",
    "            if n > max_num_var:\n",
    "                step = int(np.ceil(n/max_num_var))\n",
    "                idx = np.arange(0,n,step)\n",
    "                n = max_num_var\n",
    "            fs = 'small'\n",
    "        else:\n",
    "            fs = 'medium'\n",
    "        ax.legend(\n",
    "            [plt.plot([], [], c=colors[i])[0] for i in idx],\n",
    "            [var_names[i] for i in idx],\n",
    "            fontsize=fs,\n",
    "            ncol=int(np.ceil(n/3))\n",
    "        )\n",
    "\n",
    "    # Save figure -------------------------------------------------------------\n",
    "    if save:\n",
    "        # Save figure\n",
    "        fig_path = path + '/' + fig_name + '.pdf'\n",
    "        fig.savefig(fig_path)\n",
    "        \n",
    "    if fig_ax is not None:\n",
    "        return fig, ax"
   ]
  },
  {
   "cell_type": "markdown",
   "id": "8a2a0ca7",
   "metadata": {},
   "source": [
    "Load output data file"
   ]
  },
  {
   "cell_type": "code",
   "execution_count": 12,
   "id": "d4214462",
   "metadata": {},
   "outputs": [],
   "source": [
    "df = pd.read_csv(case_dir + '/outputs/out.csv')  "
   ]
  },
  {
   "cell_type": "markdown",
   "id": "cf92343b",
   "metadata": {},
   "source": [
    "Define time vector"
   ]
  },
  {
   "cell_type": "code",
   "execution_count": 13,
   "id": "8890599c",
   "metadata": {},
   "outputs": [],
   "source": [
    "t_col = [c for c in df.columns if 't' in c]\n",
    "t = df[t_col[0]].to_numpy()\n",
    "tlim = [1.e-12, 1.e-2]"
   ]
  },
  {
   "cell_type": "markdown",
   "id": "b2ec9176",
   "metadata": {},
   "source": [
    "Plot mass fractions"
   ]
  },
  {
   "cell_type": "code",
   "execution_count": 14,
   "id": "787696db",
   "metadata": {},
   "outputs": [
    {
     "data": {
      "image/png": "[encoded data removed]",
      "text/plain": [
       "<Figure size 432x288 with 1 Axes>"
      ]
     },
     "metadata": {
      "needs_background": "light"
     },
     "output_type": "display_data"
    },
    {
     "data": {
      "image/png": "[encoded data removed]",
      "text/plain": [
       "<Figure size 432x288 with 1 Axes>"
      ]
     },
     "metadata": {
      "needs_background": "light"
     },
     "output_type": "display_data"
    }
   ],
   "source": [
    "col = [c for c in df.columns if 'Y' in c]\n",
    "y = df[col].to_numpy()\n",
    "var_names = [c.split(\"_\")[1] for c in col]\n",
    "\n",
    "for y_scale in ('log', 'linear'):\n",
    "    plot_var(\n",
    "        t,\n",
    "        y,\n",
    "        var_names=var_names,\n",
    "        fig_name='Y_'+y_scale,\n",
    "        labels=[r'$t$ [s]', r'$Y$'],\n",
    "        scales=['log', y_scale],\n",
    "        xlim=tlim,\n",
    "        path=path\n",
    "    )"
   ]
  },
  {
   "cell_type": "markdown",
   "id": "d2ed86b9",
   "metadata": {},
   "source": [
    "Plot temperature"
   ]
  },
  {
   "cell_type": "code",
   "execution_count": 15,
   "id": "3472c092",
   "metadata": {},
   "outputs": [
    {
     "data": {
      "image/png": "[encoded data removed]",
      "text/plain": [
       "<Figure size 432x288 with 1 Axes>"
      ]
     },
     "metadata": {
      "needs_background": "light"
     },
     "output_type": "display_data"
    }
   ],
   "source": [
    "col = [c for c in df.columns if 'T' in c]\n",
    "y = df[col[0]].to_numpy()\n",
    "\n",
    "plot_var(\n",
    "    t,\n",
    "    y,\n",
    "    fig_name='T',\n",
    "    labels=[r'$t$ [s]', r'$T$ [K]'],\n",
    "    scales=['log', 'linear'],\n",
    "    xlim=tlim,\n",
    "    path=path\n",
    ")"
   ]
  },
  {
   "cell_type": "markdown",
   "id": "579f92cd",
   "metadata": {},
   "source": [
    "Plot pressure"
   ]
  },
  {
   "cell_type": "code",
   "execution_count": 16,
   "id": "e3e076ca",
   "metadata": {},
   "outputs": [
    {
     "data": {
      "image/png": "[encoded data removed]",
      "text/plain": [
       "<Figure size 432x288 with 1 Axes>"
      ]
     },
     "metadata": {
      "needs_background": "light"
     },
     "output_type": "display_data"
    }
   ],
   "source": [
    "col = [c for c in df.columns if 'p' in c]\n",
    "y = df[col[0]].to_numpy()\n",
    "\n",
    "plot_var(\n",
    "    t,\n",
    "    y,\n",
    "    fig_name='p',\n",
    "    labels=[r'$t$ [s]', r'$p$ [Pa]'],\n",
    "    scales=['log', 'linear'],\n",
    "    xlim=tlim,\n",
    "    path=path\n",
    ")"
   ]
  },
  {
   "cell_type": "markdown",
   "id": "97047ff2",
   "metadata": {},
   "source": [
    "Plot number density"
   ]
  },
  {
   "cell_type": "code",
   "execution_count": 17,
   "id": "689532e0",
   "metadata": {},
   "outputs": [
    {
     "data": {
      "image/png": "[encoded data removed]",
      "text/plain": [
       "<Figure size 432x288 with 1 Axes>"
      ]
     },
     "metadata": {
      "needs_background": "light"
     },
     "output_type": "display_data"
    }
   ],
   "source": [
    "col = [c for c in df.columns if 'n' in c]\n",
    "y = df[col].to_numpy()\n",
    "\n",
    "plot_var(\n",
    "    t,\n",
    "    y,\n",
    "    fig_name='n',\n",
    "    labels=[r'$t$ [s]', r'$n$ [m$^{-3}$]'],\n",
    "    scales=['log', 'linear'],\n",
    "    xlim=tlim,\n",
    "    path=path\n",
    ")"
   ]
  },
  {
   "cell_type": "markdown",
   "id": "932f93ab",
   "metadata": {},
   "source": [
    "Plot energy"
   ]
  },
  {
   "cell_type": "code",
   "execution_count": 11,
   "id": "566d3d7e",
   "metadata": {},
   "outputs": [
    {
     "data": {
      "image/png": "[encoded data removed]",
      "text/plain": [
       "<Figure size 432x288 with 1 Axes>"
      ]
     },
     "metadata": {
      "needs_background": "light"
     },
     "output_type": "display_data"
    }
   ],
   "source": [
    "col = [c for c in df.columns if 'E' in c]\n",
    "y = df[col].to_numpy()\n",
    "\n",
    "plot_var(\n",
    "    t,\n",
    "    y,\n",
    "    fig_name='E',\n",
    "    labels=[r'$t$ [s]', r'$E$ [J/kg]'],\n",
    "    scales=['log', 'log'],\n",
    "    xlim=tlim,\n",
    "    path=path\n",
    ")"
   ]
  },
  {
   "cell_type": "code",
   "execution_count": null,
   "id": "18ae074f",
   "metadata": {},
   "outputs": [],
   "source": []
  }
 ],
 "metadata": {
  "kernelspec": {
   "display_name": "Python 3 (ipykernel)",
   "language": "python",
   "name": "python3"
  },
  "language_info": {
   "codemirror_mode": {
    "name": "ipython",
    "version": 3
   },
   "file_extension": ".py",
   "mimetype": "text/x-python",
   "name": "python",
   "nbconvert_exporter": "python",
   "pygments_lexer": "ipython3",
   "version": "3.9.7"
  }
 },
 "nbformat": 4,
 "nbformat_minor": 5
}
